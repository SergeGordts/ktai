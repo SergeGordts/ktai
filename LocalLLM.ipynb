{
 "cells": [
  {
   "cell_type": "markdown",
   "id": "be9469b8-93e2-4f00-beb2-a2e980b8edc8",
   "metadata": {},
   "source": [
    "## Download the LLM"
   ]
  },
  {
   "cell_type": "code",
   "execution_count": 3,
   "id": "0ac7281b-b6f4-4711-8e49-a5f4761f6a18",
   "metadata": {},
   "outputs": [],
   "source": [
    "import os\n",
    "from huggingface_hub import hf_hub_download"
   ]
  },
  {
   "cell_type": "markdown",
   "id": "1f38d1ce-f98f-48b9-b394-77ef257369e0",
   "metadata": {},
   "source": [
    "create access token on huggingFace via profile settings and set in your system user variables "
   ]
  },
  {
   "cell_type": "code",
   "execution_count": 4,
   "id": "5892cf8d-a808-4b82-83b6-2670baccd491",
   "metadata": {},
   "outputs": [],
   "source": [
    "HUGGING_FACE_API_KEY = os.environ.get(\"HUGGING_FACE_API_KEY\") "
   ]
  },
  {
   "cell_type": "markdown",
   "id": "8be11a5c-6f4a-405f-95d1-ad46fd34330c",
   "metadata": {},
   "source": [
    "get model \n",
    "[a local copy of mistral](https://huggingface.co/mistralai/Mistral-7B-Instruct-v0.2/tree/main) "
   ]
  },
  {
   "cell_type": "code",
   "execution_count": 9,
   "id": "492e025f-880b-4f2d-9d86-a7fc6b13f98c",
   "metadata": {},
   "outputs": [],
   "source": [
    "model_id = \"mistralai/Mistral-7B-Instruct-v0.2\"\n",
    "filenames = [ \"config.json\",\"generation_config.json\",\"model-00001-of-00003.safetensors\",\"model-00002-of-00003.safetensors\",\"model-00003-of-00003.safetensors\",\n",
    "              \"model.safetensors.index.json\",\"pytorch_model-00001-of-00003.bin\",\"pytorch_model-00002-of-00003.bin\",\"pytorch_model-00003-of-00003.bin\",\n",
    "              \"pytorch_model.bin.index.json\",\"special_tokens_map.json\",\"tokenizer.json\",\"tokenizer.model\",\"tokenizer_config.json\"]\n"
   ]
  },
  {
   "cell_type": "code",
   "execution_count": null,
   "id": "c2a5e34f-90d4-41f9-bb98-35594f36de5a",
   "metadata": {},
   "outputs": [
    {
     "name": "stdout",
     "output_type": "stream",
     "text": [
      "C:\\Users\\Gordts-De Laender\\.cache\\huggingface\\hub\\models--mistralai--Mistral-7B-Instruct-v0.2\\snapshots\\cf47bb3e18fe41a5351bc36eef76e9c900847c89\\config.json\n",
      "C:\\Users\\Gordts-De Laender\\.cache\\huggingface\\hub\\models--mistralai--Mistral-7B-Instruct-v0.2\\snapshots\\cf47bb3e18fe41a5351bc36eef76e9c900847c89\\generation_config.json\n",
      "C:\\Users\\Gordts-De Laender\\.cache\\huggingface\\hub\\models--mistralai--Mistral-7B-Instruct-v0.2\\snapshots\\cf47bb3e18fe41a5351bc36eef76e9c900847c89\\model-00001-of-00003.safetensors\n",
      "C:\\Users\\Gordts-De Laender\\.cache\\huggingface\\hub\\models--mistralai--Mistral-7B-Instruct-v0.2\\snapshots\\cf47bb3e18fe41a5351bc36eef76e9c900847c89\\model-00002-of-00003.safetensors\n",
      "C:\\Users\\Gordts-De Laender\\.cache\\huggingface\\hub\\models--mistralai--Mistral-7B-Instruct-v0.2\\snapshots\\cf47bb3e18fe41a5351bc36eef76e9c900847c89\\model-00003-of-00003.safetensors\n",
      "C:\\Users\\Gordts-De Laender\\.cache\\huggingface\\hub\\models--mistralai--Mistral-7B-Instruct-v0.2\\snapshots\\cf47bb3e18fe41a5351bc36eef76e9c900847c89\\model.safetensors.index.json\n"
     ]
    },
    {
     "data": {
      "application/vnd.jupyter.widget-view+json": {
       "model_id": "3d3599746eb34311bbc9fd9bb0bd69a9",
       "version_major": 2,
       "version_minor": 0
      },
      "text/plain": [
       "pytorch_model-00001-of-00003.bin:   0%|          | 0.00/4.94G [00:00<?, ?B/s]"
      ]
     },
     "metadata": {},
     "output_type": "display_data"
    }
   ],
   "source": [
    "for filename in filenames: \n",
    "    downloaded_model_path = hf_hub_download(\n",
    "            repo_id = model_id,\n",
    "            filename = filename,\n",
    "            token = HUGGING_FACE_API_KEY\n",
    "    )\n",
    "    print (downloaded_model_path)"
   ]
  },
  {
   "cell_type": "code",
   "execution_count": null,
   "id": "0a80bde5-6e80-490c-9193-d6ee7384bbb5",
   "metadata": {},
   "outputs": [],
   "source": []
  },
  {
   "cell_type": "code",
   "execution_count": null,
   "id": "f3ed9797-67f1-43c8-8001-da0ad43da7c7",
   "metadata": {},
   "outputs": [],
   "source": []
  }
 ],
 "metadata": {
  "kernelspec": {
   "display_name": "Python 3 (ipykernel)",
   "language": "python",
   "name": "python3"
  },
  "language_info": {
   "codemirror_mode": {
    "name": "ipython",
    "version": 3
   },
   "file_extension": ".py",
   "mimetype": "text/x-python",
   "name": "python",
   "nbconvert_exporter": "python",
   "pygments_lexer": "ipython3",
   "version": "3.10.13"
  }
 },
 "nbformat": 4,
 "nbformat_minor": 5
}
