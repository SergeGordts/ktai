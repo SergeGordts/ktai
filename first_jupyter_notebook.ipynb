{
 "cells": [
  {
   "cell_type": "markdown",
   "id": "b3fbb1fb-a946-42d2-a25d-4d01fd88fcae",
   "metadata": {},
   "source": [
    "Using the pipeline from the Hugging Face Transformers library, so we can select a pre-trained (on a specific classifier) model. The text eventually passed to the pipeline gets preprocessed, then delivered to the model and finally post-processed."
   ]
  },
  {
   "cell_type": "code",
   "execution_count": 9,
   "id": "e6f59f1a-7815-4d78-9e6c-8cf50929ac4e",
   "metadata": {},
   "outputs": [],
   "source": [
    "from transformers import pipeline"
   ]
  },
  {
   "cell_type": "markdown",
   "id": "a8f54819-be07-48e7-855b-69d0e09fde81",
   "metadata": {},
   "source": [
    "The code import warnings; warnings.filterwarnings(\"ignore\") imports the warnings module and sets the warning filter to ignore. This means that all warnings will be suppressed and will not be displayed. "
   ]
  },
  {
   "cell_type": "code",
   "execution_count": 10,
   "id": "c3b86c8e-7bbf-467a-b576-43e362345b91",
   "metadata": {},
   "outputs": [],
   "source": [
    "import warnings\n",
    "warnings.filterwarnings(\"ignore\")"
   ]
  },
  {
   "cell_type": "markdown",
   "id": "cc71b877-04a2-4b57-80e5-3018c4de940e",
   "metadata": {},
   "source": [
    "[the task at hand is sentiment-analysis](https://huggingface.co/docs/transformers/v4.38.2/en/main_classes/pipelines) \n",
    "using\n",
    "[a local copy of mistral](https://huggingface.co/docs/transformers/v4.38.2/en/main_classes/pipelines) \n",
    "The model is downloaded and cached when the classifier object is created. [A list of possible models is found here](https://huggingface.co/models?pipeline_tag=text-classification&sort=trending&search=mistral) \n",
    "When seeing an error message update python package ipywidgets (conda update ipywidgets) and restart notebook"
   ]
  },
  {
   "cell_type": "code",
   "execution_count": 13,
   "id": "4dc7ee47-9964-40a9-8434-82674834309e",
   "metadata": {},
   "outputs": [
    {
     "data": {
      "application/vnd.jupyter.widget-view+json": {
       "model_id": "9ead4f8210974a188ed90ab8a0bf9362",
       "version_major": 2,
       "version_minor": 0
      },
      "text/plain": [
       "Loading checkpoint shards:   0%|          | 0/3 [00:00<?, ?it/s]"
      ]
     },
     "metadata": {},
     "output_type": "display_data"
    },
    {
     "name": "stderr",
     "output_type": "stream",
     "text": [
      "Some weights of MistralForSequenceClassification were not initialized from the model checkpoint at mistralai/Mistral-7B-Instruct-v0.2 and are newly initialized: ['score.weight']\n",
      "You should probably TRAIN this model on a down-stream task to be able to use it for predictions and inference.\n"
     ]
    }
   ],
   "source": [
    "classifier = pipeline(task=\"sentiment-analysis\", model=\"mistralai/Mistral-7B-Instruct-v0.2\")"
   ]
  },
  {
   "cell_type": "markdown",
   "id": "415ef8c2-e6b4-4a82-a20e-25dbf986dad2",
   "metadata": {},
   "source": [
    "Some weights of MistralForSequenceClassification were not initialized from the model checkpoint at mistralai/Mistral-7B-Instruct-v0.2 and are newly initialized: ['score.weight']\r",
    "As mentioned we shouldd probably TRAIN this model on a down-stream task to be able to use i.."
   ]
  },
  {
   "cell_type": "code",
   "execution_count": 15,
   "id": "e676caba-985e-49c3-8a1e-0f854cbacce3",
   "metadata": {},
   "outputs": [],
   "source": [
    "label_mapping = {\n",
    "    'LABEL_0': 'positive',\n",
    "    'LABEL_1': 'negative',\n",
    "    'LABEL_2': 'neutral'\n",
    "}\n",
    "def interpret_sentiment(output):\n",
    "    custom_label = output[0]['label']\n",
    "    standard_label = label_mapping.get(custom_label, 'unknown')\n",
    "    return standard_label"
   ]
  },
  {
   "cell_type": "code",
   "execution_count": 16,
   "id": "48208e23-8de3-4721-b44d-8e730fcfa90f",
   "metadata": {},
   "outputs": [
    {
     "data": {
      "text/plain": [
       "[{'label': 'LABEL_0', 'score': 0.9589282870292664}]"
      ]
     },
     "execution_count": 16,
     "metadata": {},
     "output_type": "execute_result"
    }
   ],
   "source": [
    "classifier(\"I've been waiting for a HuggingFace course my whole life.\")"
   ]
  },
  {
   "cell_type": "code",
   "execution_count": 23,
   "id": "dcfe2761-b96c-4e40-8a44-e1c7a266f8ac",
   "metadata": {},
   "outputs": [
    {
     "name": "stdout",
     "output_type": "stream",
     "text": [
      "Sentiment: LABEL_1\n",
      "Confidence Score: 0.8849238157272339\n",
      "Sentiment: negative\n"
     ]
    }
   ],
   "source": [
    "result = classifier(\"It's fine.\")\n",
    "print(\"Sentiment:\", result[0]['label'])\n",
    "print(\"Confidence Score:\", result[0]['score'])\n",
    "sentiment = interpret_sentiment(result)\n",
    "print(\"Sentiment:\", sentiment)"
   ]
  },
  {
   "cell_type": "code",
   "execution_count": 24,
   "id": "b6b2f349-7aa0-4815-b2cd-d7b72ff4b177",
   "metadata": {},
   "outputs": [
    {
     "name": "stdout",
     "output_type": "stream",
     "text": [
      "Sentiment: LABEL_1\n",
      "Confidence Score: 0.998619794845581\n",
      "Sentiment: negative\n"
     ]
    }
   ],
   "source": [
    "result = classifier(\"It's awfull.\")\n",
    "print(\"Sentiment:\", result[0]['label'])\n",
    "print(\"Confidence Score:\", result[0]['score'])\n",
    "sentiment = interpret_sentiment(result)\n",
    "print(\"Sentiment:\", sentiment)"
   ]
  },
  {
   "cell_type": "code",
   "execution_count": 25,
   "id": "a704024b-4f3d-487d-a274-06bb179692d6",
   "metadata": {},
   "outputs": [
    {
     "name": "stdout",
     "output_type": "stream",
     "text": [
      "Sentiment: LABEL_1\n",
      "Confidence Score: 0.9971467852592468\n",
      "Sentiment: negative\n"
     ]
    }
   ],
   "source": [
    "result = classifier(\"It's ok.\")\n",
    "print(\"Sentiment:\", result[0]['label'])\n",
    "print(\"Confidence Score:\", result[0]['score'])\n",
    "sentiment = interpret_sentiment(result)\n",
    "print(\"Sentiment:\", sentiment)"
   ]
  },
  {
   "cell_type": "code",
   "execution_count": 26,
   "id": "689b572a-0b67-4bce-9732-a41d24f62246",
   "metadata": {},
   "outputs": [
    {
     "name": "stdout",
     "output_type": "stream",
     "text": [
      "Sentiment: LABEL_0\n",
      "Confidence Score: 0.7981303930282593\n",
      "Sentiment: positive\n"
     ]
    }
   ],
   "source": [
    "result = classifier(\"I'm neither positive or negative.\")\n",
    "print(\"Sentiment:\", result[0]['label'])\n",
    "print(\"Confidence Score:\", result[0]['score'])\n",
    "sentiment = interpret_sentiment(result)\n",
    "print(\"Sentiment:\", sentiment)"
   ]
  },
  {
   "cell_type": "code",
   "execution_count": 27,
   "id": "ce596b10-457b-4569-aa15-57ac37e5efbc",
   "metadata": {},
   "outputs": [
    {
     "name": "stdout",
     "output_type": "stream",
     "text": [
      "Sentiment: LABEL_0\n",
      "Confidence Score: 0.9999897480010986\n",
      "Sentiment: positive\n"
     ]
    }
   ],
   "source": [
    "result = classifier(\"It's super.\")\n",
    "print(\"Sentiment:\", result[0]['label'])\n",
    "print(\"Confidence Score:\", result[0]['score'])\n",
    "sentiment = interpret_sentiment(result)\n",
    "print(\"Sentiment:\", sentiment)"
   ]
  },
  {
   "cell_type": "code",
   "execution_count": null,
   "id": "4944772e-65e7-47ff-8e5c-cf25b7946811",
   "metadata": {},
   "outputs": [],
   "source": []
  }
 ],
 "metadata": {
  "kernelspec": {
   "display_name": "Python 3 (ipykernel)",
   "language": "python",
   "name": "python3"
  },
  "language_info": {
   "codemirror_mode": {
    "name": "ipython",
    "version": 3
   },
   "file_extension": ".py",
   "mimetype": "text/x-python",
   "name": "python",
   "nbconvert_exporter": "python",
   "pygments_lexer": "ipython3",
   "version": "3.10.13"
  }
 },
 "nbformat": 4,
 "nbformat_minor": 5
}
